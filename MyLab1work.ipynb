{
 "cells": [
  {
   "cell_type": "code",
   "execution_count": null,
   "id": "4c7b0518-4b3a-494b-a00a-71ff1ced2f2a",
   "metadata": {},
   "outputs": [],
   "source": [
    "# Лабораторная работа №1\n",
    "## Выполнил студент группы БСТ2201 Боджанг.М.Л"
   ]
  },
  {
   "cell_type": "code",
   "execution_count": null,
   "id": "836a877f-b3e6-4201-ac52-d5a0dde7993d",
   "metadata": {},
   "outputs": [],
   "source": [
    "### Задание №1\n",
    "<i> Вызвать функцию print() и передать туда строку Hello, World! </i>"
   ]
  },
  {
   "cell_type": "code",
   "execution_count": 14,
   "id": "9d84b423-c521-4801-a105-36a61fea5658",
   "metadata": {},
   "outputs": [
    {
     "name": "stdout",
     "output_type": "stream",
     "text": [
      "Hello,World!\n"
     ]
    }
   ],
   "source": [
    "print(\"Hello,World!\")\n"
   ]
  },
  {
   "cell_type": "code",
   "execution_count": null,
   "id": "2e50b693-1cb3-41bb-abf7-64bda62b8994",
   "metadata": {},
   "outputs": [],
   "source": [
    "### Задание №2\n",
    "нужно написать генератор случайных многомерных матриц (возможность ввода значений предоставляется пользователю)"
   ]
  },
  {
   "cell_type": "code",
   "execution_count": 19,
   "id": "56e53ab9-fa3d-43bb-83e3-410fdb14f0c4",
   "metadata": {},
   "outputs": [
    {
     "name": "stdin",
     "output_type": "stream",
     "text": [
      "Введите количество строк в матрице:  6\n",
      "Введите количество столбцов в матрице:  6\n",
      "Введите минимальное значение для генерации случайных чисел:  -10\n",
      "Введите максимальное значение для генерации случайных чисел:  300\n"
     ]
    },
    {
     "name": "stdout",
     "output_type": "stream",
     "text": [
      "Случайная матрица:\n",
      "[89, 23, 11, 148, 148, 119]\n",
      "[299, 233, 28, 89, 71, 161]\n",
      "[136, 92, 102, 90, 123, 195]\n",
      "[52, 20, 84, 127, 3, 252]\n",
      "[38, 132, 133, 219, 279, 221]\n",
      "[186, 287, -7, 41, 4, 239]\n"
     ]
    }
   ],
   "source": [
    "import random\n",
    "\n",
    "def generate_random_matrix():\n",
    "    m = int(input(\"Введите количество строк в матрице: \"))\n",
    "    n = int(input(\"Введите количество столбцов в матрице: \"))\n",
    "    min_limit = int(input(\"Введите минимальное значение для генерации случайных чисел: \"))\n",
    "    max_limit = int(input(\"Введите максимальное значение для генерации случайных чисел: \"))\n",
    "    \n",
    "    # Генерация случайной матрицы заданной размерности\n",
    "    random_matrix = [[random.randint(min_limit, max_limit) for _ in range(n)] for _ in range(m)]\n",
    "    \n",
    "    return random_matrix\n",
    "\n",
    "# Пример использования генератора случайных многомерных матриц\n",
    "random_matrix = generate_random_matrix()\n",
    "print(\"Случайная матрица:\")\n",
    "for row in random_matrix:\n",
    "    print(row)"
   ]
  },
  {
   "cell_type": "code",
   "execution_count": null,
   "id": "ad86315f-e005-4147-a63b-6d8f78f904a7",
   "metadata": {},
   "outputs": [],
   "source": [
    "### Задание №3\n",
    "Реализовать методы сортировки строк числовой матрицы в соответствии с\n",
    "заданием. "
   ]
  },
  {
   "cell_type": "code",
   "execution_count": 28,
   "id": "460aad86-5d73-4db0-8eeb-c1c534835e1a",
   "metadata": {},
   "outputs": [
    {
     "name": "stdout",
     "output_type": "stream",
     "text": [
      "вставка отсортирована: [7, 10, 18, 35, 65]\n"
     ]
    }
   ],
   "source": [
    "def insertion_sort(arr):\n",
    "     for i in range(1, len(arr)):\n",
    "         key = arr[i]\n",
    "         j = i - 1\n",
    "         while j >= 0 and key < arr[j]:\n",
    "             arr[j + 1] = arr[j]\n",
    "             j -= 1\n",
    "         arr[j + 1] = key\n",
    "\n",
    "             \n",
    "#Пример исползования\n",
    "arr = [35,18, 65, 10,7] \n",
    "insertion_sort(arr)\n",
    "print(\"вставка отсортирована:\", arr)"
   ]
  },
  {
   "cell_type": "code",
   "execution_count": 31,
   "id": "4db475b9-240d-44e7-813f-5a600b357af8",
   "metadata": {},
   "outputs": [
    {
     "name": "stdout",
     "output_type": "stream",
     "text": [
      "отсортированный пузырь : [14, 19, 29, 33, 44, 75, 98]\n"
     ]
    }
   ],
   "source": [
    "def bubble_sort(arr):\n",
    "    n = len(arr)\n",
    "\n",
    "    for i in range(n):\n",
    "         for j in range(0, n-i-1):\n",
    "             if arr[j] > arr[j+1]:\n",
    "                 arr[j], arr[j+1]= arr[j+1], arr[j]\n",
    "\n",
    "    return arr\n",
    "\n",
    "#Пример использования\n",
    "arr = [75, 33, 19, 14, 29, 44, 98]\n",
    "sorted_arr = bubble_sort(arr)\n",
    "print(\"отсортированный пузырь :\", sorted_arr)"
   ]
  },
  {
   "cell_type": "code",
   "execution_count": 32,
   "id": "8b711587-32d6-41cc-a0b1-611439eb4d3d",
   "metadata": {},
   "outputs": [
    {
     "name": "stdout",
     "output_type": "stream",
     "text": [
      "выбор отсортирован: [14, 25, 31, 75, 112]\n"
     ]
    }
   ],
   "source": [
    "def selection_sort(arr):\n",
    "    n = len(arr)\n",
    "    for i in range(n):\n",
    "        min_index = i\n",
    "        for j in range(i+1, n):\n",
    "            if arr[j] < arr[min_index]:\n",
    "                min_index = j \n",
    "        arr[i], arr[min_index] = arr[min_index], arr[i]\n",
    "\n",
    "# Пример использования\n",
    "arr = [75, 31, 14, 25, 112]\n",
    "selection_sort(arr)\n",
    "print(\"выбор отсортирован:\", arr)"
   ]
  },
  {
   "cell_type": "code",
   "execution_count": 33,
   "id": "a5cc5748-e266-4fb0-ac98-296eca77435a",
   "metadata": {},
   "outputs": [
    {
     "name": "stdout",
     "output_type": "stream",
     "text": [
      "отсортировала Шелла: [3, 18, 34, 54, 102]\n"
     ]
    }
   ],
   "source": [
    "def shell_sort(arr):\n",
    "    n = len(arr)\n",
    "    gap = n // 2\n",
    "    while gap > 0:\n",
    "        for i in range(gap, n):\n",
    "            temp = arr[i]\n",
    "            j = i\n",
    "            while j >= gap and arr[j - \n",
    "gap] > temp:\n",
    "                 arr[j] = arr[j - gap]\n",
    "                 j -= gap\n",
    "            arr[j] = temp\n",
    "        gap //=2\n",
    "\n",
    "#Пример исползования\n",
    "arr = [102, 34, 54, 18, 3]\n",
    "     \n",
    "shell_sort(arr)\n",
    "print(\"отсортировала Шелла:\", arr)\n",
    "                "
   ]
  },
  {
   "cell_type": "code",
   "execution_count": 34,
   "id": "c1ae586f-5bdd-4da7-b425-d8b761c2dd74",
   "metadata": {},
   "outputs": [
    {
     "name": "stdout",
     "output_type": "stream",
     "text": [
      "Быстрая сортировка : [1, 2, 10, 15, 15, 20, 150]\n"
     ]
    }
   ],
   "source": [
    "def quick_sort(arr):\n",
    "    if len(arr) <=1:\n",
    "        return arr\n",
    "    else:\n",
    "        pivot = arr[0]\n",
    "        less = [x for x in arr[1:]\n",
    "if x <= pivot]\n",
    "        greater = [x for x in arr[1:\n",
    "] if x > pivot]\n",
    "        return quick_sort(less) + [\n",
    "pivot] + quick_sort(greater)\n",
    "        \n",
    "#Пример использования\n",
    "arr = [20, 15, 10, 150, 1, 2, 15]\n",
    "sorted_arr = quick_sort(arr)\n",
    "print(\"Быстрая сортировка :\",sorted_arr)"
   ]
  },
  {
   "cell_type": "code",
   "execution_count": 5,
   "id": "41f22d01-28b4-4a28-a5ad-a1cee527084f",
   "metadata": {},
   "outputs": [
    {
     "name": "stdout",
     "output_type": "stream",
     "text": [
      "[254, 2, 44, 205, 102]\n",
      "[112, 24, 212, 296, 241]\n",
      "[110, 122, 105, 27, 153]\n",
      "[201, 90, 221, 255, 42]\n",
      "[51, 260, 114, 81, 11]\n"
     ]
    }
   ],
   "source": [
    "import random\n",
    "\n",
    "def random_matrix(m=3, n=3, min_limit=1,\n",
    "max_limit=10):\n",
    "    return [[random.randint(min_limit,\n",
    "max_limit) for _ in range(n)] for _ in\n",
    "range(m)]\n",
    "\n",
    "#Пример использования\n",
    "matrix = random_matrix(5, 5, 0, 300)\n",
    "for row in matrix:\n",
    "    print(row)"
   ]
  },
  {
   "cell_type": "code",
   "execution_count": 4,
   "id": "1903409b-3117-46a4-b011-7fa3e9121d94",
   "metadata": {},
   "outputs": [
    {
     "name": "stdout",
     "output_type": "stream",
     "text": [
      "Отсортированный массив:\n",
      "[10, 13, 14, 29, 37]\n"
     ]
    }
   ],
   "source": [
    "def tournament_sort(arr):\n",
    "    n = len(arr)\n",
    "    tree = [None] * (2*n - 1)\n",
    "\n",
    "    def build_tree(node, start, end):\n",
    "        if start == end:\n",
    "            tree[node] = start\n",
    "            return\n",
    "        mid = (start + end) // 2\n",
    "        build_tree(2*node+1, start, mid)\n",
    "        build_tree(2*node+2, mid+1, end)\n",
    "        if arr[tree[2*node+1]] < arr[tree[2*node+2]]:\n",
    "            tree[node] = tree[2*node+1]\n",
    "        else:\n",
    "            tree[node] = tree[2*node+2]\n",
    "\n",
    "    def query_tree(node, start, end, qstart, qend):\n",
    "        if start > qend or end < qstart:\n",
    "            return -1  # Invalid range\n",
    "        if start >= qstart and end <= qend:\n",
    "            return tree[node]\n",
    "        mid = (start + end) // 2\n",
    "        left = query_tree(2*node+1, start, mid, qstart, qend)\n",
    "        right = query_tree(2*node+2, mid+1, end, qstart, qend)\n",
    "        if left == -1:\n",
    "            return right\n",
    "        elif right == -1:\n",
    "            return left\n",
    "        elif arr[left] < arr[right]:\n",
    "            return left\n",
    "        else:\n",
    "            return right\n",
    "\n",
    "    def update_tree(node, start, end, idx):\n",
    "        if start == end:\n",
    "            return\n",
    "        mid = (start + end) // 2\n",
    "        if idx <= mid:\n",
    "            update_tree(2*node+1, start, mid, idx)\n",
    "        else:\n",
    "            update_tree(2*node+2, mid+1, end, idx)\n",
    "        if arr[tree[2*node+1]] < arr[tree[2*node+2]]:\n",
    "            tree[node] = tree[2*node+1]\n",
    "        else:\n",
    "            tree[node] = tree[2*node+2]\n",
    "\n",
    "    build_tree(0, 0, n-1)\n",
    "\n",
    "    sorted_arr = []\n",
    "    for i in range(n):\n",
    "        idx = query_tree(0, 0, n-1, 0, n-1)\n",
    "        sorted_arr.append(arr[idx])\n",
    "        arr[idx] = float('inf')  # Infinity as a placeholder\n",
    "        update_tree(0, 0, n-1, idx)\n",
    "\n",
    "    return sorted_arr\n",
    "    \n",
    "arr = [29, 10, 14, 37, 13]\n",
    "sorted_arr = tournament_sort(arr)\n",
    "print(\"Отсортированный массив:\")\n",
    "print(sorted_arr)"
   ]
  },
  {
   "cell_type": "code",
   "execution_count": 12,
   "id": "3ad59c2c-9254-482d-b334-3d5c62a7f0f5",
   "metadata": {},
   "outputs": [
    {
     "name": "stdout",
     "output_type": "stream",
     "text": [
      "Hello, World!\n",
      "print_hello_world: 0.000252 seconds\n",
      "bubble_sort: 0.000034 seconds\n",
      "quick_sort: 0.000032 seconds\n",
      "shell_sort: 0.000029 seconds\n",
      "selection_sort: 0.000033 seconds\n",
      "tournament_sort: 0.000037 seconds\n"
     ]
    }
   ],
   "source": [
    "import timeit\n",
    "\n",
    "# Define a function for printing \"Hello, World!\"\n",
    "def print_hello_world():\n",
    "    print(\"Hello, World!\")\n",
    "\n",
    "# Measure execution time using timeit\n",
    "for func in [print_hello_world, bubble_sort, quick_sort, shell_sort, selection_sort, tournament_sort]:\n",
    "    if func.__name__ == \"print_hello_world\":\n",
    "        time_taken = timeit.timeit(func, number=1)\n",
    "    else:\n",
    "        arr = [random.randint(1, 1000) for _ in range(1000)]\n",
    "        time_taken = timeit.timeit(lambda: func(arr.copy()), number=1)\n",
    "    print(f\"{func.__name__}: {time_taken:.6f} seconds\")"
   ]
  },
  {
   "cell_type": "code",
   "execution_count": null,
   "id": "478edb50-985e-445c-a459-5c39bc7d8046",
   "metadata": {},
   "outputs": [],
   "source": []
  }
 ],
 "metadata": {
  "kernelspec": {
   "display_name": "Python 3 (ipykernel)",
   "language": "python",
   "name": "python3"
  },
  "language_info": {
   "codemirror_mode": {
    "name": "ipython",
    "version": 3
   },
   "file_extension": ".py",
   "mimetype": "text/x-python",
   "name": "python",
   "nbconvert_exporter": "python",
   "pygments_lexer": "ipython3",
   "version": "3.11.7"
  }
 },
 "nbformat": 4,
 "nbformat_minor": 5
}
